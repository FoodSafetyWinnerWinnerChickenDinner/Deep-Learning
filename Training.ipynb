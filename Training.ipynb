{
 "cells": [
  {
   "cell_type": "markdown",
   "metadata": {},
   "source": [
    "# Import Library"
   ]
  },
  {
   "cell_type": "code",
   "execution_count": 1,
   "metadata": {},
   "outputs": [
    {
     "name": "stdout",
     "output_type": "stream",
     "text": [
      "[PhysicalDevice(name='/physical_device:GPU:0', device_type='GPU'), PhysicalDevice(name='/physical_device:GPU:1', device_type='GPU')]\n"
     ]
    }
   ],
   "source": [
    "import os\n",
    "import random\n",
    "import numpy as np\n",
    "import tensorflow as tf\n",
    "import matplotlib.pyplot as plt\n",
    "%matplotlib inline\n",
    "print(tf.config.list_physical_devices('GPU'))\n",
    "from tensorflow.keras.preprocessing.image import ImageDataGenerator\n",
    "from tensorflow.keras.applications import EfficientNetB4, MobileNetV2"
   ]
  },
  {
   "cell_type": "markdown",
   "metadata": {},
   "source": [
    "#### Set Seed "
   ]
  },
  {
   "cell_type": "code",
   "execution_count": 2,
   "metadata": {},
   "outputs": [],
   "source": [
    "SEED = 42\n",
    "\n",
    "def seed_everything(seed):\n",
    "    random.seed(seed)\n",
    "    os.environ['PYTHONHASHSEED'] = str(seed)\n",
    "    np.random.seed(seed)\n",
    "    tf.random.set_seed(seed)\n",
    "\n",
    "seed_everything(SEED)"
   ]
  },
  {
   "cell_type": "markdown",
   "metadata": {},
   "source": [
    "#### Config "
   ]
  },
  {
   "cell_type": "code",
   "execution_count": 3,
   "metadata": {},
   "outputs": [],
   "source": [
    "IMAGE_PATH = f'./Crawling/Data/'\n",
    "\n",
    "batch_size = 16\n",
    "\n",
    "classes = 17\n",
    "\n",
    "learning_rate = 5e-5\n",
    "\n",
    "EPOCHS = 100"
   ]
  },
  {
   "cell_type": "markdown",
   "metadata": {},
   "source": [
    "# Load Data "
   ]
  },
  {
   "cell_type": "code",
   "execution_count": 4,
   "metadata": {},
   "outputs": [],
   "source": [
    "train_datagen = ImageDataGenerator(\n",
    "    rescale=1./255.,\n",
    ")\n",
    "\n",
    "val_datagen = ImageDataGenerator(\n",
    "    rescale=1./255.,\n",
    ")"
   ]
  },
  {
   "cell_type": "code",
   "execution_count": 5,
   "metadata": {},
   "outputs": [
    {
     "name": "stdout",
     "output_type": "stream",
     "text": [
      "Found 5100 images belonging to 17 classes.\n",
      "Found 5100 images belonging to 17 classes.\n"
     ]
    }
   ],
   "source": [
    "train_generator = train_datagen.flow_from_directory(\n",
    "    IMAGE_PATH,\n",
    "    target_size=[256,256],\n",
    "    batch_size=batch_size,\n",
    "    class_mode='categorical'\n",
    ")\n",
    "\n",
    "val_generator = val_datagen.flow_from_directory(\n",
    "    IMAGE_PATH,\n",
    "    target_size=[256,256],\n",
    "    batch_size=batch_size,\n",
    "    class_mode='categorical'\n",
    ")"
   ]
  },
  {
   "cell_type": "markdown",
   "metadata": {},
   "source": [
    "# Build Model "
   ]
  },
  {
   "cell_type": "code",
   "execution_count": 6,
   "metadata": {},
   "outputs": [
    {
     "name": "stdout",
     "output_type": "stream",
     "text": [
      "WARNING:tensorflow:`input_shape` is undefined or non-square, or `rows` is not in [96, 128, 160, 192, 224]. Weights for input shape (224, 224) will be loaded as the default.\n"
     ]
    }
   ],
   "source": [
    "with tf.device('/device:GPU:0'):\n",
    "    base_model = MobileNetV2(\n",
    "        include_top=False,\n",
    "        input_shape=(256,256,3)\n",
    "    )\n",
    "    # base_model = EfficientNetB4(\n",
    "    #     include_top=False,\n",
    "    #     input_shape=(256,256,3)\n",
    "    # )\n",
    "base_model.trainable = False"
   ]
  },
  {
   "cell_type": "code",
   "execution_count": 7,
   "metadata": {},
   "outputs": [],
   "source": [
    "global_average_layer = tf.keras.layers.GlobalAveragePooling2D()\n",
    "prediction_layer = tf.keras.layers.Dense(17, activation='softmax')"
   ]
  },
  {
   "cell_type": "code",
   "execution_count": 8,
   "metadata": {},
   "outputs": [],
   "source": [
    "model = tf.keras.Sequential([\n",
    "    base_model,\n",
    "    global_average_layer,\n",
    "    prediction_layer,\n",
    "])"
   ]
  },
  {
   "cell_type": "markdown",
   "metadata": {},
   "source": [
    "#### Compile Model "
   ]
  },
  {
   "cell_type": "code",
   "execution_count": 9,
   "metadata": {},
   "outputs": [],
   "source": [
    "model.compile(\n",
    "    optimizer = tf.keras.optimizers.Adam(learning_rate),\n",
    "    loss=tf.keras.losses.categorical_crossentropy,\n",
    "    metrics=['accuracy']\n",
    ")"
   ]
  },
  {
   "cell_type": "code",
   "execution_count": 10,
   "metadata": {},
   "outputs": [
    {
     "name": "stdout",
     "output_type": "stream",
     "text": [
      "Model: \"sequential\"\n",
      "_________________________________________________________________\n",
      "Layer (type)                 Output Shape              Param #   \n",
      "=================================================================\n",
      "mobilenetv2_1.00_224 (Functi (None, 8, 8, 1280)        2257984   \n",
      "_________________________________________________________________\n",
      "global_average_pooling2d (Gl (None, 1280)              0         \n",
      "_________________________________________________________________\n",
      "dense (Dense)                (None, 17)                21777     \n",
      "=================================================================\n",
      "Total params: 2,279,761\n",
      "Trainable params: 21,777\n",
      "Non-trainable params: 2,257,984\n",
      "_________________________________________________________________\n"
     ]
    }
   ],
   "source": [
    "model.summary()"
   ]
  },
  {
   "cell_type": "markdown",
   "metadata": {},
   "source": [
    "# Training "
   ]
  },
  {
   "cell_type": "code",
   "execution_count": null,
   "metadata": {},
   "outputs": [
    {
     "name": "stdout",
     "output_type": "stream",
     "text": [
      "Epoch 1/100\n",
      "319/319 [==============================] - 16s 51ms/step - loss: 2.8643 - accuracy: 0.1218 - val_loss: 2.5505 - val_accuracy: 0.1978\n",
      "Epoch 2/100\n",
      "319/319 [==============================] - 15s 49ms/step - loss: 2.3453 - accuracy: 0.2822 - val_loss: 2.1377 - val_accuracy: 0.3749\n",
      "Epoch 3/100\n",
      "319/319 [==============================] - 16s 49ms/step - loss: 1.9961 - accuracy: 0.4310 - val_loss: 1.8461 - val_accuracy: 0.4904\n",
      "Epoch 4/100\n",
      "319/319 [==============================] - 16s 49ms/step - loss: 1.7456 - accuracy: 0.5180 - val_loss: 1.6376 - val_accuracy: 0.5594\n",
      "Epoch 5/100\n",
      "319/319 [==============================] - 16s 49ms/step - loss: 1.5637 - accuracy: 0.5818 - val_loss: 1.4783 - val_accuracy: 0.6069\n",
      "Epoch 6/100\n",
      "319/319 [==============================] - 16s 49ms/step - loss: 1.4259 - accuracy: 0.6222 - val_loss: 1.3584 - val_accuracy: 0.6429\n",
      "Epoch 7/100\n",
      "319/319 [==============================] - 16s 49ms/step - loss: 1.3185 - accuracy: 0.6529 - val_loss: 1.2633 - val_accuracy: 0.6702\n",
      "Epoch 8/100\n",
      "319/319 [==============================] - 16s 49ms/step - loss: 1.2323 - accuracy: 0.6725 - val_loss: 1.1840 - val_accuracy: 0.6914\n",
      "Epoch 9/100\n",
      "319/319 [==============================] - 16s 49ms/step - loss: 1.1599 - accuracy: 0.6951 - val_loss: 1.1189 - val_accuracy: 0.7029\n",
      "Epoch 10/100\n",
      "319/319 [==============================] - 16s 49ms/step - loss: 1.0995 - accuracy: 0.7082 - val_loss: 1.0637 - val_accuracy: 0.7202\n",
      "Epoch 11/100\n",
      "319/319 [==============================] - 16s 49ms/step - loss: 1.0475 - accuracy: 0.7206 - val_loss: 1.0156 - val_accuracy: 0.7273\n",
      "Epoch 12/100\n",
      "319/319 [==============================] - 16s 50ms/step - loss: 1.0032 - accuracy: 0.7276 - val_loss: 0.9733 - val_accuracy: 0.7378\n",
      "Epoch 13/100\n",
      "319/319 [==============================] - 16s 49ms/step - loss: 0.9621 - accuracy: 0.7414 - val_loss: 0.9347 - val_accuracy: 0.7496\n",
      "Epoch 14/100\n",
      "319/319 [==============================] - 16s 49ms/step - loss: 0.9263 - accuracy: 0.7498 - val_loss: 0.9013 - val_accuracy: 0.7571\n",
      "Epoch 15/100\n",
      "319/319 [==============================] - 15s 48ms/step - loss: 0.8940 - accuracy: 0.7592 - val_loss: 0.8698 - val_accuracy: 0.7659\n",
      "Epoch 16/100\n",
      "319/319 [==============================] - 15s 48ms/step - loss: 0.8639 - accuracy: 0.7682 - val_loss: 0.8413 - val_accuracy: 0.7743\n",
      "Epoch 17/100\n",
      "319/319 [==============================] - 16s 49ms/step - loss: 0.8366 - accuracy: 0.7729 - val_loss: 0.8147 - val_accuracy: 0.7788\n",
      "Epoch 18/100\n",
      "319/319 [==============================] - 15s 49ms/step - loss: 0.8114 - accuracy: 0.7769 - val_loss: 0.7908 - val_accuracy: 0.7839\n",
      "Epoch 19/100\n",
      "319/319 [==============================] - 16s 49ms/step - loss: 0.7882 - accuracy: 0.7859 - val_loss: 0.7679 - val_accuracy: 0.7955\n",
      "Epoch 20/100\n",
      "319/319 [==============================] - 16s 50ms/step - loss: 0.7655 - accuracy: 0.7922 - val_loss: 0.7479 - val_accuracy: 0.7961\n",
      "Epoch 21/100\n",
      "319/319 [==============================] - 15s 47ms/step - loss: 0.7456 - accuracy: 0.7965 - val_loss: 0.7272 - val_accuracy: 0.8029\n",
      "Epoch 22/100\n",
      "319/319 [==============================] - 15s 47ms/step - loss: 0.7263 - accuracy: 0.8027 - val_loss: 0.7080 - val_accuracy: 0.8080\n",
      "Epoch 23/100\n",
      "319/319 [==============================] - 15s 46ms/step - loss: 0.7080 - accuracy: 0.8053 - val_loss: 0.6913 - val_accuracy: 0.8122\n",
      "Epoch 24/100\n",
      "319/319 [==============================] - 15s 47ms/step - loss: 0.6904 - accuracy: 0.8143 - val_loss: 0.6752 - val_accuracy: 0.8178\n",
      "Epoch 25/100\n",
      "319/319 [==============================] - 15s 46ms/step - loss: 0.6743 - accuracy: 0.8165 - val_loss: 0.6582 - val_accuracy: 0.8231\n",
      "Epoch 26/100\n",
      "319/319 [==============================] - 15s 46ms/step - loss: 0.6587 - accuracy: 0.8227 - val_loss: 0.6428 - val_accuracy: 0.8286\n",
      "Epoch 27/100\n",
      "319/319 [==============================] - 15s 47ms/step - loss: 0.6436 - accuracy: 0.8267 - val_loss: 0.6285 - val_accuracy: 0.8322\n",
      "Epoch 28/100\n",
      "319/319 [==============================] - 15s 46ms/step - loss: 0.6292 - accuracy: 0.8314 - val_loss: 0.6155 - val_accuracy: 0.8373\n",
      "Epoch 29/100\n",
      "319/319 [==============================] - 15s 46ms/step - loss: 0.6156 - accuracy: 0.8394 - val_loss: 0.6024 - val_accuracy: 0.8410\n",
      "Epoch 30/100\n",
      "319/319 [==============================] - 15s 47ms/step - loss: 0.6024 - accuracy: 0.8396 - val_loss: 0.5890 - val_accuracy: 0.8471\n",
      "Epoch 31/100\n",
      "319/319 [==============================] - 15s 47ms/step - loss: 0.5904 - accuracy: 0.8427 - val_loss: 0.5770 - val_accuracy: 0.8496\n",
      "Epoch 32/100\n",
      "319/319 [==============================] - 15s 47ms/step - loss: 0.5782 - accuracy: 0.8484 - val_loss: 0.5650 - val_accuracy: 0.8533\n",
      "Epoch 33/100\n",
      "319/319 [==============================] - 15s 47ms/step - loss: 0.5660 - accuracy: 0.8522 - val_loss: 0.5550 - val_accuracy: 0.8557\n",
      "Epoch 34/100\n",
      "319/319 [==============================] - 15s 46ms/step - loss: 0.5557 - accuracy: 0.8557 - val_loss: 0.5433 - val_accuracy: 0.8584\n",
      "Epoch 35/100\n",
      "319/319 [==============================] - 15s 47ms/step - loss: 0.5445 - accuracy: 0.8586 - val_loss: 0.5326 - val_accuracy: 0.8631\n",
      "Epoch 36/100\n",
      "319/319 [==============================] - 15s 47ms/step - loss: 0.5345 - accuracy: 0.8608 - val_loss: 0.5222 - val_accuracy: 0.8684\n",
      "Epoch 37/100\n",
      "319/319 [==============================] - 15s 47ms/step - loss: 0.5245 - accuracy: 0.8669 - val_loss: 0.5128 - val_accuracy: 0.8692\n",
      "Epoch 38/100\n",
      "319/319 [==============================] - 15s 47ms/step - loss: 0.5142 - accuracy: 0.8686 - val_loss: 0.5032 - val_accuracy: 0.8739\n",
      "Epoch 39/100\n",
      "319/319 [==============================] - 15s 47ms/step - loss: 0.5053 - accuracy: 0.8712 - val_loss: 0.4953 - val_accuracy: 0.8769\n",
      "Epoch 40/100\n",
      "319/319 [==============================] - 15s 46ms/step - loss: 0.4966 - accuracy: 0.8759 - val_loss: 0.4852 - val_accuracy: 0.8810\n",
      "Epoch 41/100\n",
      "319/319 [==============================] - 15s 47ms/step - loss: 0.4872 - accuracy: 0.8778 - val_loss: 0.4775 - val_accuracy: 0.8871\n",
      "Epoch 42/100\n",
      "319/319 [==============================] - 15s 47ms/step - loss: 0.4787 - accuracy: 0.8804 - val_loss: 0.4686 - val_accuracy: 0.8873\n",
      "Epoch 43/100\n",
      "319/319 [==============================] - 15s 47ms/step - loss: 0.4704 - accuracy: 0.8851 - val_loss: 0.4602 - val_accuracy: 0.8910\n",
      "Epoch 44/100\n",
      "319/319 [==============================] - 15s 47ms/step - loss: 0.4630 - accuracy: 0.8867 - val_loss: 0.4521 - val_accuracy: 0.8918\n",
      "Epoch 45/100\n",
      "319/319 [==============================] - 15s 47ms/step - loss: 0.4542 - accuracy: 0.8892 - val_loss: 0.4444 - val_accuracy: 0.8949\n",
      "Epoch 46/100\n",
      "319/319 [==============================] - 15s 47ms/step - loss: 0.4470 - accuracy: 0.8941 - val_loss: 0.4373 - val_accuracy: 0.8963\n",
      "Epoch 47/100\n",
      "319/319 [==============================] - 15s 47ms/step - loss: 0.4395 - accuracy: 0.8953 - val_loss: 0.4299 - val_accuracy: 0.8969\n",
      "Epoch 48/100\n",
      "319/319 [==============================] - 15s 47ms/step - loss: 0.4324 - accuracy: 0.8990 - val_loss: 0.4223 - val_accuracy: 0.9041\n",
      "Epoch 49/100\n",
      "319/319 [==============================] - 15s 47ms/step - loss: 0.4249 - accuracy: 0.9010 - val_loss: 0.4162 - val_accuracy: 0.9035\n",
      "Epoch 50/100\n",
      "319/319 [==============================] - 15s 47ms/step - loss: 0.4181 - accuracy: 0.9037 - val_loss: 0.4091 - val_accuracy: 0.9080\n",
      "Epoch 51/100\n",
      " 71/319 [=====>........................] - ETA: 5s - loss: 0.4176 - accuracy: 0.9067"
     ]
    }
   ],
   "source": [
    "history = model.fit(\n",
    "    train_generator,\n",
    "    epochs=EPOCHS,\n",
    "    validation_data=val_generator\n",
    ")"
   ]
  },
  {
   "cell_type": "code",
   "execution_count": 12,
   "metadata": {},
   "outputs": [],
   "source": [
    "r = next(iter(train_generator))"
   ]
  },
  {
   "cell_type": "code",
   "execution_count": 13,
   "metadata": {},
   "outputs": [],
   "source": [
    "img, label = r[0][0], r[1][0]"
   ]
  },
  {
   "cell_type": "code",
   "execution_count": 20,
   "metadata": {},
   "outputs": [
    {
     "data": {
      "text/plain": [
       "<tf.Tensor: shape=(16, 17), dtype=float32, numpy=\n",
       "array([[ 2.9310672 , -0.7518295 ,  0.18807179, -1.1059742 ,  1.4337091 ,\n",
       "         0.62084526,  0.5712175 , -1.9444466 ,  0.17567024, -0.7015872 ,\n",
       "         0.7865558 , -1.9372294 ,  1.1910641 ,  3.3170536 , -0.94791603,\n",
       "        -0.63262546, -1.0124608 ],\n",
       "       [ 3.0522242 , -0.53401685,  0.01308825, -0.5120572 ,  1.5207728 ,\n",
       "         1.2865975 ,  0.75698715, -1.8376343 , -0.61159384, -1.5248569 ,\n",
       "         0.52810353, -0.4565504 ,  0.64924103,  3.1790032 , -1.5489216 ,\n",
       "         1.0847452 , -0.9211453 ],\n",
       "       [ 1.6581061 ,  0.25070667, -0.74965554, -2.283928  ,  1.0408789 ,\n",
       "         0.30336374,  0.5115896 , -2.4495153 , -0.18667272, -0.8930874 ,\n",
       "         2.2171867 , -0.60989845,  0.25996208,  0.8169579 , -0.42487338,\n",
       "        -0.26345688, -1.1385922 ],\n",
       "       [ 2.0454292 ,  0.74517614, -1.0220816 , -0.5404272 ,  0.48623416,\n",
       "         0.7361423 , -0.24974157, -2.5934794 ,  0.6020428 , -1.1695511 ,\n",
       "         1.3634168 ,  0.68955433,  0.17838739,  1.0173569 , -1.2923892 ,\n",
       "         0.8548986 , -0.06108143],\n",
       "       [ 2.259581  , -1.0679698 , -0.92054564,  0.5014939 ,  2.137279  ,\n",
       "         2.3088024 ,  0.81824595, -1.7345823 , -2.33657   ,  0.14224032,\n",
       "         0.33011243,  0.01601668,  0.3204219 ,  0.79634064, -1.2907917 ,\n",
       "        -0.32813746, -2.1019654 ],\n",
       "       [ 1.6743355 , -0.25590387, -0.0445529 , -1.1980411 ,  0.9591775 ,\n",
       "        -0.31403613, -0.8223143 , -0.76834226, -0.44534847, -0.5053781 ,\n",
       "         1.8513894 ,  0.01983996, -1.2912796 ,  1.1254523 , -0.675581  ,\n",
       "        -0.35036212, -1.0320071 ],\n",
       "       [ 2.138166  , -0.15401462, -0.6445833 , -1.1377845 ,  0.38927376,\n",
       "         0.9045321 ,  0.92367035, -2.3072615 ,  0.11023356, -0.09487613,\n",
       "         0.5630534 , -1.2563021 , -0.24838312,  1.812449  , -0.8933991 ,\n",
       "        -0.13160422, -1.4509801 ],\n",
       "       [ 1.5912924 , -1.3934283 , -0.09395006,  0.05271623,  1.7339394 ,\n",
       "         1.24239   ,  0.30125904, -3.469333  ,  0.20899677, -0.7556984 ,\n",
       "         1.0487419 , -1.0095575 ,  1.3305739 ,  1.1185296 , -2.1976197 ,\n",
       "         1.0524846 , -2.4464161 ],\n",
       "       [ 2.5042155 , -0.24404852, -1.1146028 ,  0.23618375,  1.7330266 ,\n",
       "         0.95304227, -0.44059065, -2.4561393 , -2.409218  , -0.17786963,\n",
       "         0.6572879 ,  0.43598923,  0.81944424,  2.5741265 , -1.9317268 ,\n",
       "        -0.56895596, -1.1486825 ],\n",
       "       [ 1.3608782 ,  0.52091795, -1.0083321 , -0.25414953,  2.2563663 ,\n",
       "         0.69788903,  0.7563135 , -2.2000597 , -0.81641   , -1.6885841 ,\n",
       "        -1.0182507 ,  1.8502094 , -0.5800972 ,  1.1640071 , -1.1952155 ,\n",
       "         1.3550816 , -1.486082  ],\n",
       "       [ 2.2727146 , -0.7217383 , -1.3710232 , -1.041856  ,  1.0186266 ,\n",
       "         0.574462  ,  0.59938335, -0.19659229, -0.4794084 ,  0.04645232,\n",
       "         0.8606239 ,  0.70795506, -0.39796275,  0.52687585, -1.7197841 ,\n",
       "        -0.9108962 , -0.5755455 ],\n",
       "       [ 1.3345389 ,  0.2342625 , -0.8550832 ,  0.16056159,  2.0652955 ,\n",
       "         1.9582502 ,  0.47884414, -2.2614822 , -1.9464462 , -0.064891  ,\n",
       "         1.5200211 ,  0.13868415,  1.0043539 ,  0.75498295, -1.3393044 ,\n",
       "        -0.2634021 , -1.8169276 ],\n",
       "       [ 3.0494294 , -0.23135027, -0.03256996, -1.1630627 ,  3.0915062 ,\n",
       "         1.1501385 , -0.44973534, -1.6497658 , -2.5974345 , -0.5321829 ,\n",
       "         0.53175575, -0.39423823,  0.17137127,  0.27543736, -1.7471783 ,\n",
       "        -1.4679505 , -1.4542689 ],\n",
       "       [ 0.9646687 ,  0.75648516, -1.3466729 , -1.3157035 ,  1.8890959 ,\n",
       "         0.9975737 ,  0.7441069 , -3.3500493 ,  0.888105  , -0.98089236,\n",
       "         0.4859596 ,  0.9062222 ,  1.0462537 ,  1.6435324 , -1.7124103 ,\n",
       "         0.44877094, -1.4846939 ],\n",
       "       [ 1.509052  ,  1.1193209 , -0.44779888, -0.53013754,  1.7118729 ,\n",
       "         0.83632326,  0.93592364, -1.8739989 ,  0.06385218, -0.8089872 ,\n",
       "         0.04279188, -0.14645098, -0.21239953,  0.94962025, -1.312226  ,\n",
       "        -0.24957712, -1.9392647 ],\n",
       "       [ 2.226352  ,  0.84837383,  0.8901771 , -2.2204576 ,  1.8413563 ,\n",
       "         0.70799994,  0.41247877, -2.9955573 , -0.29145926, -1.2330029 ,\n",
       "         0.6398726 ,  0.41616416,  0.35801727,  1.35227   , -0.9810095 ,\n",
       "         0.13485684, -1.1085348 ]], dtype=float32)>"
      ]
     },
     "execution_count": 20,
     "metadata": {},
     "output_type": "execute_result"
    }
   ],
   "source": [
    "model(r[0])"
   ]
  },
  {
   "cell_type": "code",
   "execution_count": null,
   "metadata": {},
   "outputs": [],
   "source": []
  }
 ],
 "metadata": {
  "kernelspec": {
   "display_name": "React-AI",
   "language": "python",
   "name": "react-ai"
  },
  "language_info": {
   "codemirror_mode": {
    "name": "ipython",
    "version": 3
   },
   "file_extension": ".py",
   "mimetype": "text/x-python",
   "name": "python",
   "nbconvert_exporter": "python",
   "pygments_lexer": "ipython3",
   "version": "3.7.9"
  }
 },
 "nbformat": 4,
 "nbformat_minor": 4
}
