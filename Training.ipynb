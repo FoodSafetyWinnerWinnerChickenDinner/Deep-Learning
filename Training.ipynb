{
 "cells": [
  {
   "cell_type": "markdown",
   "metadata": {},
   "source": [
    "# Import Library"
   ]
  },
  {
   "cell_type": "code",
   "execution_count": 1,
   "metadata": {},
   "outputs": [
    {
     "name": "stdout",
     "output_type": "stream",
     "text": [
      "[PhysicalDevice(name='/physical_device:GPU:0', device_type='GPU'), PhysicalDevice(name='/physical_device:GPU:1', device_type='GPU')]\n"
     ]
    }
   ],
   "source": [
    "import os\n",
    "import random\n",
    "import numpy as np\n",
    "import tensorflow as tf\n",
    "import tensorflow_addons as tfa\n",
    "import matplotlib.pyplot as plt\n",
    "%matplotlib inline\n",
    "print(tf.config.list_physical_devices('GPU'))\n",
    "from tensorflow.keras.preprocessing.image import ImageDataGenerator\n",
    "from tensorflow.keras.applications import EfficientNetB4, MobileNetV2"
   ]
  },
  {
   "cell_type": "markdown",
   "metadata": {},
   "source": [
    "#### Set Seed "
   ]
  },
  {
   "cell_type": "code",
   "execution_count": 2,
   "metadata": {},
   "outputs": [],
   "source": [
    "SEED = 42\n",
    "\n",
    "def seed_everything(seed):\n",
    "    random.seed(seed)\n",
    "    os.environ['PYTHONHASHSEED'] = str(seed)\n",
    "    np.random.seed(seed)\n",
    "    tf.random.set_seed(seed)\n",
    "\n",
    "seed_everything(SEED)"
   ]
  },
  {
   "cell_type": "markdown",
   "metadata": {},
   "source": [
    "#### Config "
   ]
  },
  {
   "cell_type": "code",
   "execution_count": 3,
   "metadata": {},
   "outputs": [],
   "source": [
    "IMAGE_PATH = f'./Crawling/Data/'\n",
    "\n",
    "batch_size = 16\n",
    "\n",
    "classes = 19\n",
    "\n",
    "learning_rate = 5e-5\n",
    "wd = 0.0005\n",
    "max_lr = 2e-3\n",
    "min_lr = 5e-5\n",
    "cycle_len = 20\n",
    "\n",
    "EPOCHS = 100"
   ]
  },
  {
   "cell_type": "markdown",
   "metadata": {},
   "source": [
    "# Load Data "
   ]
  },
  {
   "cell_type": "code",
   "execution_count": 4,
   "metadata": {},
   "outputs": [],
   "source": [
    "train_datagen = ImageDataGenerator(\n",
    "    rescale=1./255.,\n",
    ")\n",
    "\n",
    "val_datagen = ImageDataGenerator(\n",
    "    rescale=1./255.,\n",
    ")"
   ]
  },
  {
   "cell_type": "code",
   "execution_count": 5,
   "metadata": {},
   "outputs": [
    {
     "name": "stdout",
     "output_type": "stream",
     "text": [
      "Found 5700 images belonging to 19 classes.\n",
      "Found 475 images belonging to 19 classes.\n"
     ]
    }
   ],
   "source": [
    "train_generator = train_datagen.flow_from_directory(\n",
    "    IMAGE_PATH+f'train/',\n",
    "    target_size=[256,256],\n",
    "    batch_size=batch_size,\n",
    "    class_mode='categorical'\n",
    ")\n",
    "\n",
    "val_generator = val_datagen.flow_from_directory(\n",
    "    IMAGE_PATH+f'val/',\n",
    "    target_size=[256,256],\n",
    "    batch_size=batch_size,\n",
    "    class_mode='categorical'\n",
    ")"
   ]
  },
  {
   "cell_type": "markdown",
   "metadata": {},
   "source": [
    "# Build Model "
   ]
  },
  {
   "cell_type": "code",
   "execution_count": 6,
   "metadata": {},
   "outputs": [
    {
     "name": "stdout",
     "output_type": "stream",
     "text": [
      "WARNING:tensorflow:`input_shape` is undefined or non-square, or `rows` is not in [96, 128, 160, 192, 224]. Weights for input shape (224, 224) will be loaded as the default.\n"
     ]
    }
   ],
   "source": [
    "with tf.device('/device:GPU:0'):\n",
    "    base_model = MobileNetV2(\n",
    "        include_top=False,\n",
    "        input_shape=(256,256,3)\n",
    "    )\n",
    "    # base_model = EfficientNetB4(\n",
    "    #     include_top=False,\n",
    "    #     input_shape=(256,256,3)\n",
    "    # )\n",
    "base_model.trainable = False"
   ]
  },
  {
   "cell_type": "code",
   "execution_count": 7,
   "metadata": {},
   "outputs": [],
   "source": [
    "global_average_layer = tf.keras.layers.GlobalAveragePooling2D()\n",
    "prediction_layer = tf.keras.layers.Dense(classes, activation='softmax')"
   ]
  },
  {
   "cell_type": "code",
   "execution_count": 8,
   "metadata": {},
   "outputs": [],
   "source": [
    "model = tf.keras.Sequential([\n",
    "    base_model,\n",
    "    global_average_layer,\n",
    "    prediction_layer,\n",
    "])"
   ]
  },
  {
   "cell_type": "markdown",
   "metadata": {},
   "source": [
    "#### Compile Model "
   ]
  },
  {
   "cell_type": "code",
   "execution_count": 9,
   "metadata": {},
   "outputs": [],
   "source": [
    "optimizer = tfa.optimizers.AdamW(learning_rate, wd)\n",
    "\n",
    "model.compile(\n",
    "    optimizer = optimizer,\n",
    "    loss=tf.keras.losses.categorical_crossentropy,\n",
    "    metrics=['accuracy']\n",
    ")"
   ]
  },
  {
   "cell_type": "code",
   "execution_count": 10,
   "metadata": {},
   "outputs": [],
   "source": [
    "checkpoint_filepath = './checkpoints/best_model.h5'\n",
    "mon = tf.keras.callbacks.ModelCheckpoint(filepath=checkpoint_filepath, save_weights_only=False,\n",
    "                                                monitor='val_accuracy', mode='max', save_best_only=True,\n",
    "                                        verbose=1)\n",
    "\n",
    "def trianfle_fn(x):\n",
    "    return 1. / (2.**(x - 1))\n",
    "clr_f = tfa.optimizers.CyclicalLearningRate(\n",
    "    initial_learning_rate = max_lr,\n",
    "    maximal_learning_rate = min_lr,\n",
    "    step_size = cycle_len,\n",
    "    scale_fn = trianfle_fn\n",
    ")\n",
    "\n",
    "clr = tf.keras.callbacks.LearningRateScheduler(clr_f)\n",
    "es = tf.keras.callbacks.EarlyStopping(monitor='val_accuracy', min_delta=0, patience=5, \n",
    "                                          verbose=2, mode='auto', baseline=None, \n",
    "                                          restore_best_weights=True)\n",
    "\n",
    "callbacks = [mon, clr, es]"
   ]
  },
  {
   "cell_type": "code",
   "execution_count": 11,
   "metadata": {},
   "outputs": [
    {
     "name": "stdout",
     "output_type": "stream",
     "text": [
      "Model: \"sequential\"\n",
      "_________________________________________________________________\n",
      "Layer (type)                 Output Shape              Param #   \n",
      "=================================================================\n",
      "mobilenetv2_1.00_224 (Functi (None, 8, 8, 1280)        2257984   \n",
      "_________________________________________________________________\n",
      "global_average_pooling2d (Gl (None, 1280)              0         \n",
      "_________________________________________________________________\n",
      "dense (Dense)                (None, 19)                24339     \n",
      "=================================================================\n",
      "Total params: 2,282,323\n",
      "Trainable params: 24,339\n",
      "Non-trainable params: 2,257,984\n",
      "_________________________________________________________________\n"
     ]
    }
   ],
   "source": [
    "model.summary()"
   ]
  },
  {
   "cell_type": "markdown",
   "metadata": {},
   "source": [
    "# Training "
   ]
  },
  {
   "cell_type": "code",
   "execution_count": 12,
   "metadata": {
    "scrolled": true
   },
   "outputs": [
    {
     "name": "stdout",
     "output_type": "stream",
     "text": [
      "Epoch 1/100\n",
      "357/357 [==============================] - ETA: 0s - loss: 1.3898 - accuracy: 0.5856\n",
      "Epoch 00001: val_accuracy improved from -inf to 0.80000, saving model to ./checkpoints/best_model.h5\n",
      "357/357 [==============================] - 10s 28ms/step - loss: 1.3898 - accuracy: 0.5856 - val_loss: 0.6761 - val_accuracy: 0.8000\n",
      "Epoch 2/100\n",
      "356/357 [============================>.] - ETA: 0s - loss: 0.6887 - accuracy: 0.7906\n",
      "Epoch 00002: val_accuracy improved from 0.80000 to 0.81895, saving model to ./checkpoints/best_model.h5\n",
      "357/357 [==============================] - 9s 26ms/step - loss: 0.6876 - accuracy: 0.7912 - val_loss: 0.6169 - val_accuracy: 0.8189\n",
      "Epoch 3/100\n",
      "357/357 [==============================] - ETA: 0s - loss: 0.4829 - accuracy: 0.8625\n",
      "Epoch 00003: val_accuracy did not improve from 0.81895\n",
      "357/357 [==============================] - 9s 25ms/step - loss: 0.4829 - accuracy: 0.8625 - val_loss: 0.6508 - val_accuracy: 0.8126\n",
      "Epoch 4/100\n",
      "356/357 [============================>.] - ETA: 0s - loss: 0.3734 - accuracy: 0.8962\n",
      "Epoch 00004: val_accuracy improved from 0.81895 to 0.82316, saving model to ./checkpoints/best_model.h5\n",
      "357/357 [==============================] - 9s 26ms/step - loss: 0.3731 - accuracy: 0.8963 - val_loss: 0.6017 - val_accuracy: 0.8232\n",
      "Epoch 5/100\n",
      "355/357 [============================>.] - ETA: 0s - loss: 0.2938 - accuracy: 0.9284\n",
      "Epoch 00005: val_accuracy did not improve from 0.82316\n",
      "357/357 [==============================] - 9s 25ms/step - loss: 0.2942 - accuracy: 0.9284 - val_loss: 0.6598 - val_accuracy: 0.8084\n",
      "Epoch 6/100\n",
      "356/357 [============================>.] - ETA: 0s - loss: 0.2332 - accuracy: 0.9499\n",
      "Epoch 00006: val_accuracy did not improve from 0.82316\n",
      "357/357 [==============================] - 9s 25ms/step - loss: 0.2334 - accuracy: 0.9498 - val_loss: 0.6082 - val_accuracy: 0.8189\n",
      "Epoch 7/100\n",
      "357/357 [==============================] - ETA: 0s - loss: 0.1950 - accuracy: 0.9630\n",
      "Epoch 00007: val_accuracy improved from 0.82316 to 0.82737, saving model to ./checkpoints/best_model.h5\n",
      "357/357 [==============================] - 9s 26ms/step - loss: 0.1950 - accuracy: 0.9630 - val_loss: 0.5976 - val_accuracy: 0.8274\n",
      "Epoch 8/100\n",
      "356/357 [============================>.] - ETA: 0s - loss: 0.1600 - accuracy: 0.9727\n",
      "Epoch 00008: val_accuracy did not improve from 0.82737\n",
      "357/357 [==============================] - 9s 26ms/step - loss: 0.1607 - accuracy: 0.9725 - val_loss: 0.5717 - val_accuracy: 0.8253\n",
      "Epoch 9/100\n",
      "356/357 [============================>.] - ETA: 0s - loss: 0.1339 - accuracy: 0.9845\n",
      "Epoch 00009: val_accuracy did not improve from 0.82737\n",
      "357/357 [==============================] - 9s 25ms/step - loss: 0.1339 - accuracy: 0.9844 - val_loss: 0.6125 - val_accuracy: 0.8189\n",
      "Epoch 10/100\n",
      "355/357 [============================>.] - ETA: 0s - loss: 0.1187 - accuracy: 0.9885\n",
      "Epoch 00010: val_accuracy did not improve from 0.82737\n",
      "357/357 [==============================] - 9s 25ms/step - loss: 0.1184 - accuracy: 0.9886 - val_loss: 0.6072 - val_accuracy: 0.8232\n",
      "Epoch 11/100\n",
      "357/357 [==============================] - ETA: 0s - loss: 0.1040 - accuracy: 0.9907\n",
      "Epoch 00011: val_accuracy did not improve from 0.82737\n",
      "357/357 [==============================] - 9s 25ms/step - loss: 0.1040 - accuracy: 0.9907 - val_loss: 0.5865 - val_accuracy: 0.8253\n",
      "Epoch 12/100\n",
      "356/357 [============================>.] - ETA: 0s - loss: 0.0912 - accuracy: 0.9956\n",
      "Epoch 00012: val_accuracy did not improve from 0.82737\n",
      "Restoring model weights from the end of the best epoch.\n",
      "357/357 [==============================] - 9s 26ms/step - loss: 0.0913 - accuracy: 0.9956 - val_loss: 0.6084 - val_accuracy: 0.8253\n",
      "Epoch 00012: early stopping\n"
     ]
    }
   ],
   "source": [
    "history = model.fit(\n",
    "    train_generator,\n",
    "    epochs=EPOCHS,\n",
    "    validation_data=val_generator,\n",
    "    callbacks=callbacks,\n",
    ")"
   ]
  },
  {
   "cell_type": "code",
   "execution_count": 22,
   "metadata": {},
   "outputs": [
    {
     "data": {
      "image/png": "[encoded data removed]",
      "text/plain": [
       "<Figure size 432x288 with 1 Axes>"
      ]
     },
     "metadata": {
      "needs_background": "light"
     },
     "output_type": "display_data"
    }
   ],
   "source": [
    "plt.plot(history.history['loss'], label='train loss')\n",
    "plt.plot(history.history['val_loss'], label='val loss')\n",
    "plt.legend()\n",
    "plt.show()"
   ]
  },
  {
   "cell_type": "code",
   "execution_count": 21,
   "metadata": {},
   "outputs": [
    {
     "data": {
      "image/png": "[encoded data removed]",
      "text/plain": [
       "<Figure size 432x288 with 1 Axes>"
      ]
     },
     "metadata": {
      "needs_background": "light"
     },
     "output_type": "display_data"
    }
   ],
   "source": [
    "plt.plot(history.history['accuracy'], label='train acc')\n",
    "plt.plot(history.history['val_accuracy'], label='val acc')\n",
    "plt.legend()\n",
    "plt.show()"
   ]
  },
  {
   "cell_type": "code",
   "execution_count": 23,
   "metadata": {
    "scrolled": true
   },
   "outputs": [
    {
     "data": {
      "image/png": "[encoded data removed]",
      "text/plain": [
       "<Figure size 432x288 with 1 Axes>"
      ]
     },
     "metadata": {
      "needs_background": "light"
     },
     "output_type": "display_data"
    }
   ],
   "source": [
    "plt.plot(history.history['lr'], label='learning rate')\n",
    "plt.legend()\n",
    "plt.show()"
   ]
  },
  {
   "cell_type": "code",
   "execution_count": 24,
   "metadata": {},
   "outputs": [],
   "source": [
    "import tensorflowjs as tfjs"
   ]
  },
  {
   "cell_type": "code",
   "execution_count": 25,
   "metadata": {},
   "outputs": [],
   "source": [
    "tfjs_target_dir = f'./checkpoints/best_model_js.json'"
   ]
  },
  {
   "cell_type": "code",
   "execution_count": 26,
   "metadata": {},
   "outputs": [
    {
     "name": "stderr",
     "output_type": "stream",
     "text": [
      "/home/sungjin/anaconda3/envs/React-AI/lib/python3.7/site-packages/tensorflowjs/converters/keras_h5_conversion.py:123: H5pyDeprecationWarning: The default file mode will change to 'r' (read-only) in h5py 3.0. To suppress this warning, pass the mode you need to h5py.File(), or set the global default h5.get_config().default_file_mode, or set the environment variable H5PY_DEFAULT_READONLY=1. Available modes are: 'r', 'r+', 'w', 'w-'/'x', 'a'. See the docs for details.\n",
      "  return h5py.File(h5file)\n"
     ]
    }
   ],
   "source": [
    "tfjs.converters.save_keras_model(model, tfjs_target_dir)"
   ]
  },
  {
   "cell_type": "code",
   "execution_count": null,
   "metadata": {},
   "outputs": [],
   "source": []
  },
  {
   "cell_type": "code",
   "execution_count": 12,
   "metadata": {},
   "outputs": [],
   "source": [
    "r = next(iter(train_generator))"
   ]
  },
  {
   "cell_type": "code",
   "execution_count": 13,
   "metadata": {},
   "outputs": [],
   "source": [
    "img, label = r[0][0], r[1][0]"
   ]
  },
  {
   "cell_type": "code",
   "execution_count": 20,
   "metadata": {},
   "outputs": [
    {
     "data": {
      "text/plain": [
       "<tf.Tensor: shape=(16, 17), dtype=float32, numpy=\n",
       "array([[ 2.9310672 , -0.7518295 ,  0.18807179, -1.1059742 ,  1.4337091 ,\n",
       "         0.62084526,  0.5712175 , -1.9444466 ,  0.17567024, -0.7015872 ,\n",
       "         0.7865558 , -1.9372294 ,  1.1910641 ,  3.3170536 , -0.94791603,\n",
       "        -0.63262546, -1.0124608 ],\n",
       "       [ 3.0522242 , -0.53401685,  0.01308825, -0.5120572 ,  1.5207728 ,\n",
       "         1.2865975 ,  0.75698715, -1.8376343 , -0.61159384, -1.5248569 ,\n",
       "         0.52810353, -0.4565504 ,  0.64924103,  3.1790032 , -1.5489216 ,\n",
       "         1.0847452 , -0.9211453 ],\n",
       "       [ 1.6581061 ,  0.25070667, -0.74965554, -2.283928  ,  1.0408789 ,\n",
       "         0.30336374,  0.5115896 , -2.4495153 , -0.18667272, -0.8930874 ,\n",
       "         2.2171867 , -0.60989845,  0.25996208,  0.8169579 , -0.42487338,\n",
       "        -0.26345688, -1.1385922 ],\n",
       "       [ 2.0454292 ,  0.74517614, -1.0220816 , -0.5404272 ,  0.48623416,\n",
       "         0.7361423 , -0.24974157, -2.5934794 ,  0.6020428 , -1.1695511 ,\n",
       "         1.3634168 ,  0.68955433,  0.17838739,  1.0173569 , -1.2923892 ,\n",
       "         0.8548986 , -0.06108143],\n",
       "       [ 2.259581  , -1.0679698 , -0.92054564,  0.5014939 ,  2.137279  ,\n",
       "         2.3088024 ,  0.81824595, -1.7345823 , -2.33657   ,  0.14224032,\n",
       "         0.33011243,  0.01601668,  0.3204219 ,  0.79634064, -1.2907917 ,\n",
       "        -0.32813746, -2.1019654 ],\n",
       "       [ 1.6743355 , -0.25590387, -0.0445529 , -1.1980411 ,  0.9591775 ,\n",
       "        -0.31403613, -0.8223143 , -0.76834226, -0.44534847, -0.5053781 ,\n",
       "         1.8513894 ,  0.01983996, -1.2912796 ,  1.1254523 , -0.675581  ,\n",
       "        -0.35036212, -1.0320071 ],\n",
       "       [ 2.138166  , -0.15401462, -0.6445833 , -1.1377845 ,  0.38927376,\n",
       "         0.9045321 ,  0.92367035, -2.3072615 ,  0.11023356, -0.09487613,\n",
       "         0.5630534 , -1.2563021 , -0.24838312,  1.812449  , -0.8933991 ,\n",
       "        -0.13160422, -1.4509801 ],\n",
       "       [ 1.5912924 , -1.3934283 , -0.09395006,  0.05271623,  1.7339394 ,\n",
       "         1.24239   ,  0.30125904, -3.469333  ,  0.20899677, -0.7556984 ,\n",
       "         1.0487419 , -1.0095575 ,  1.3305739 ,  1.1185296 , -2.1976197 ,\n",
       "         1.0524846 , -2.4464161 ],\n",
       "       [ 2.5042155 , -0.24404852, -1.1146028 ,  0.23618375,  1.7330266 ,\n",
       "         0.95304227, -0.44059065, -2.4561393 , -2.409218  , -0.17786963,\n",
       "         0.6572879 ,  0.43598923,  0.81944424,  2.5741265 , -1.9317268 ,\n",
       "        -0.56895596, -1.1486825 ],\n",
       "       [ 1.3608782 ,  0.52091795, -1.0083321 , -0.25414953,  2.2563663 ,\n",
       "         0.69788903,  0.7563135 , -2.2000597 , -0.81641   , -1.6885841 ,\n",
       "        -1.0182507 ,  1.8502094 , -0.5800972 ,  1.1640071 , -1.1952155 ,\n",
       "         1.3550816 , -1.486082  ],\n",
       "       [ 2.2727146 , -0.7217383 , -1.3710232 , -1.041856  ,  1.0186266 ,\n",
       "         0.574462  ,  0.59938335, -0.19659229, -0.4794084 ,  0.04645232,\n",
       "         0.8606239 ,  0.70795506, -0.39796275,  0.52687585, -1.7197841 ,\n",
       "        -0.9108962 , -0.5755455 ],\n",
       "       [ 1.3345389 ,  0.2342625 , -0.8550832 ,  0.16056159,  2.0652955 ,\n",
       "         1.9582502 ,  0.47884414, -2.2614822 , -1.9464462 , -0.064891  ,\n",
       "         1.5200211 ,  0.13868415,  1.0043539 ,  0.75498295, -1.3393044 ,\n",
       "        -0.2634021 , -1.8169276 ],\n",
       "       [ 3.0494294 , -0.23135027, -0.03256996, -1.1630627 ,  3.0915062 ,\n",
       "         1.1501385 , -0.44973534, -1.6497658 , -2.5974345 , -0.5321829 ,\n",
       "         0.53175575, -0.39423823,  0.17137127,  0.27543736, -1.7471783 ,\n",
       "        -1.4679505 , -1.4542689 ],\n",
       "       [ 0.9646687 ,  0.75648516, -1.3466729 , -1.3157035 ,  1.8890959 ,\n",
       "         0.9975737 ,  0.7441069 , -3.3500493 ,  0.888105  , -0.98089236,\n",
       "         0.4859596 ,  0.9062222 ,  1.0462537 ,  1.6435324 , -1.7124103 ,\n",
       "         0.44877094, -1.4846939 ],\n",
       "       [ 1.509052  ,  1.1193209 , -0.44779888, -0.53013754,  1.7118729 ,\n",
       "         0.83632326,  0.93592364, -1.8739989 ,  0.06385218, -0.8089872 ,\n",
       "         0.04279188, -0.14645098, -0.21239953,  0.94962025, -1.312226  ,\n",
       "        -0.24957712, -1.9392647 ],\n",
       "       [ 2.226352  ,  0.84837383,  0.8901771 , -2.2204576 ,  1.8413563 ,\n",
       "         0.70799994,  0.41247877, -2.9955573 , -0.29145926, -1.2330029 ,\n",
       "         0.6398726 ,  0.41616416,  0.35801727,  1.35227   , -0.9810095 ,\n",
       "         0.13485684, -1.1085348 ]], dtype=float32)>"
      ]
     },
     "execution_count": 20,
     "metadata": {},
     "output_type": "execute_result"
    }
   ],
   "source": [
    "model(r[0])"
   ]
  },
  {
   "cell_type": "code",
   "execution_count": null,
   "metadata": {},
   "outputs": [],
   "source": []
  }
 ],
 "metadata": {
  "kernelspec": {
   "display_name": "React-AI",
   "language": "python",
   "name": "react-ai"
  },
  "language_info": {
   "codemirror_mode": {
    "name": "ipython",
    "version": 3
   },
   "file_extension": ".py",
   "mimetype": "text/x-python",
   "name": "python",
   "nbconvert_exporter": "python",
   "pygments_lexer": "ipython3",
   "version": "3.7.9"
  }
 },
 "nbformat": 4,
 "nbformat_minor": 4
}
